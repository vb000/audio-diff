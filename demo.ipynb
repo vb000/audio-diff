{
 "cells": [
  {
   "cell_type": "code",
   "execution_count": null,
   "metadata": {},
   "outputs": [],
   "source": [
    "import torch\n",
    "from torch.utils.data import Dataset, DataLoader\n",
    "from IPython.display import display\n",
    "from IPython.display import Audio\n",
    "\n",
    "from fsd50k_curated_train import FSD50KCurated, collate_fn, FSD50KDiffusionModel"
   ]
  },
  {
   "cell_type": "code",
   "execution_count": null,
   "metadata": {},
   "outputs": [],
   "source": [
    "model = FSD50KDiffusionModel.load_from_checkpoint(\n",
    "    'lightning_logs/epxt39fk/checkpoints/epoch=21-step=8822.ckpt'\n",
    ")\n"
   ]
  },
  {
   "cell_type": "code",
   "execution_count": null,
   "metadata": {},
   "outputs": [],
   "source": [
    "model.to('cuda')\n",
    "noise = torch.randn(1, 1, 2**18).cuda()\n",
    "text = ['Cough']\n",
    "audio = model.model.sample(\n",
    "    noise, text=text, embedding_scale=10.0, num_steps=100)"
   ]
  },
  {
   "cell_type": "code",
   "execution_count": null,
   "metadata": {},
   "outputs": [],
   "source": [
    "display(Audio(audio[0, 0].cpu().numpy(), rate=44100))"
   ]
  },
  {
   "cell_type": "code",
   "execution_count": null,
   "metadata": {},
   "outputs": [],
   "source": [
    "dataset = FSD50KCurated('../semaudio-few-shot/data/FSD50KSoundScapes/FSD50KScaperFmt/train')\n",
    "dataloader = DataLoader(dataset, batch_size=4, shuffle=True, collate_fn=collate_fn)"
   ]
  },
  {
   "cell_type": "code",
   "execution_count": null,
   "metadata": {},
   "outputs": [],
   "source": [
    "sample, label = next(iter(dataloader))\n",
    "print(\"Audio shape:\", sample.shape)\n",
    "print(label)\n",
    "for i in range(sample.shape[0]):\n",
    "    display(Audio(sample[i].numpy(), rate=44100))\n"
   ]
  }
 ],
 "metadata": {
  "kernelspec": {
   "display_name": "audio-diff",
   "language": "python",
   "name": "python3"
  },
  "language_info": {
   "codemirror_mode": {
    "name": "ipython",
    "version": 3
   },
   "file_extension": ".py",
   "mimetype": "text/x-python",
   "name": "python",
   "nbconvert_exporter": "python",
   "pygments_lexer": "ipython3",
   "version": "3.8.16"
  },
  "orig_nbformat": 4,
  "vscode": {
   "interpreter": {
    "hash": "e06b918b5a6360d7ad03357844423cfd86b5e725d3be1c68cc20895d346dc817"
   }
  }
 },
 "nbformat": 4,
 "nbformat_minor": 2
}
